{
 "cells": [
  {
   "cell_type": "code",
   "execution_count": 1,
   "metadata": {},
   "outputs": [],
   "source": [
    "import json\n",
    "import requests"
   ]
  },
  {
   "cell_type": "code",
   "execution_count": 2,
   "metadata": {},
   "outputs": [],
   "source": [
    "# Datos input para calcular predicción de huella de carbono infividual\n",
    "datos_pred = {\"BodyType\":\"normal\",\n",
    "              \"Sex\":\"female\",\n",
    "              \"Diet\":\"omnivore\",\n",
    "              \"ShowerFreq\":\"daily\",\n",
    "              \"EnergyHeat\":\"electricity\",\n",
    "              \"Transport\":\"public\",\n",
    "              \"VehicleType\":\"NaN\",\n",
    "              \"SocialActivity\":\"often\",\n",
    "              \"GroceryBill\":200,\n",
    "              \"AirTravelFreq\":\"frequently\",\n",
    "              \"DriveDistance\":0,\n",
    "              \"WasteBagSize\":\"medium\",\n",
    "              \"WasteBagCount\":2,\n",
    "              \"TVPCHours\":7,\n",
    "              \"ClothesNew\":2,\n",
    "              \"InternetHours\":2,\n",
    "              \"EnergyEfficiency\":\"Yes\",\n",
    "              \"Recycling\":\"[\\'Glass\\', \\'Paper\\', \\'Plastic\\']\",\n",
    "              \"Cooking_With\":\"[\\'Microwave\\',\\'Stove\\', \\'Oven\\']\"\n",
    "              }\n",
    "datos_pred = json.dumps(datos_pred)"
   ]
  },
  {
   "cell_type": "code",
   "execution_count": 3,
   "metadata": {},
   "outputs": [
    {
     "name": "stdout",
     "output_type": "stream",
     "text": [
      "Para los inputs dados, la huella de carbono individual es 1759.51 kg CO2 al mes.\n",
      "El individuo pertenece al grupo 2\n"
     ]
    }
   ],
   "source": [
    "# Enviar la solicitud POST y obtener el resultado de la respuesta\n",
    "respuesta = requests.post('http://127.0.0.1:8000/predict', json=datos_pred)\n",
    "resultado = respuesta.json()\n",
    "\n",
    "# Extraer los valores del diccionario\n",
    "prediction = resultado['prediction'][0]  # Accede al primer valor de la lista\n",
    "cluster = resultado['cluster'][0]  # Accede al primer valor de la lista\n",
    "\n",
    "# Formatear e imprimir los resultados\n",
    "print(f\"Para los inputs dados, la huella de carbono individual es {prediction:.2f} kg CO2 al mes.\")\n",
    "print(f\"El individuo pertenece al grupo {cluster}\")"
   ]
  }
 ],
 "metadata": {
  "kernelspec": {
   "display_name": "ml_python",
   "language": "python",
   "name": "python3"
  },
  "language_info": {
   "codemirror_mode": {
    "name": "ipython",
    "version": 3
   },
   "file_extension": ".py",
   "mimetype": "text/x-python",
   "name": "python",
   "nbconvert_exporter": "python",
   "pygments_lexer": "ipython3",
   "version": "3.10.13"
  }
 },
 "nbformat": 4,
 "nbformat_minor": 2
}
