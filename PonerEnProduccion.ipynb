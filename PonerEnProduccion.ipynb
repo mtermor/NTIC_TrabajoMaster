{
 "cells": [
  {
   "cell_type": "code",
   "execution_count": 1,
   "metadata": {},
   "outputs": [
    {
     "name": "stderr",
     "output_type": "stream",
     "text": [
      "/var/folders/dm/xc68z2ls0d5gs2zbxxn7vn680000gn/T/ipykernel_23376/3119173143.py:5: DeprecationWarning: \n",
      "Pyarrow will become a required dependency of pandas in the next major release of pandas (pandas 3.0),\n",
      "(to allow more performant data types, such as the Arrow string type, and better interoperability with other libraries)\n",
      "but was not found to be installed on your system.\n",
      "If this would cause problems for you,\n",
      "please provide us feedback at https://github.com/pandas-dev/pandas/issues/54466\n",
      "        \n",
      "  import pandas as pd\n"
     ]
    }
   ],
   "source": [
    "from flask import Flask, request, jsonify\n",
    "import joblib\n",
    "import json\n",
    "import numpy as np\n",
    "import pandas as pd \n",
    "from sklearn.preprocessing import StandardScaler\n",
    "from sklearn.preprocessing import OrdinalEncoder, LabelBinarizer, OneHotEncoder\n",
    "from sklearn.preprocessing import FunctionTransformer\n",
    "from sklearn.pipeline import Pipeline\n",
    "import dill"
   ]
  },
  {
   "cell_type": "code",
   "execution_count": 2,
   "metadata": {},
   "outputs": [],
   "source": [
    "# Cargar el modelo entrenado\n",
    "modelo_pred = joblib.load('modelo_entrenado.pkl')\n",
    "modelo_clus = joblib.load('modelo_clustering_entrenado.pkl')\n",
    "\n",
    "with open('pipeline.pkl', 'rb') as f:\n",
    "    pipeline = dill.load(f)"
   ]
  },
  {
   "cell_type": "code",
   "execution_count": 3,
   "metadata": {},
   "outputs": [],
   "source": [
    "# Inicializar la aplicación Flask\n",
    "app = Flask(__name__)\n",
    "\n",
    "@app.route('/predict', methods=['POST'])\n",
    "def predict():\n",
    "\n",
    "    # Conseguir los datos de la petición\n",
    "    data = request.get_json(force=True)\n",
    "\n",
    "    # Convertir el JSON a un diccionario de Python\n",
    "    datos_pred_dict = json.loads(data)\n",
    "\n",
    "    # Crear un DataFrame a partir del diccionario\n",
    "    parapred = pd.DataFrame([datos_pred_dict])\n",
    "\n",
    "    # Hacer la predicción\n",
    "    data_transformed = pipeline.transform(parapred)\n",
    "    \n",
    "    prediction = modelo_pred.predict(data_transformed)\n",
    "    cluster = modelo_clus.predict(data_transformed)\n",
    "\n",
    "    # Convertir la predicción a una lista para que sea serializable a JSON\n",
    "    prediction_list = prediction.tolist()\n",
    "    cluster_list = cluster.tolist()\n",
    "\n",
    "    return jsonify({\"prediction\": prediction_list, \"cluster\": cluster_list})"
   ]
  },
  {
   "cell_type": "code",
   "execution_count": 4,
   "metadata": {},
   "outputs": [
    {
     "name": "stdout",
     "output_type": "stream",
     "text": [
      " * Serving Flask app '__main__'\n",
      " * Debug mode: off\n"
     ]
    },
    {
     "name": "stderr",
     "output_type": "stream",
     "text": [
      "\u001b[31m\u001b[1mWARNING: This is a development server. Do not use it in a production deployment. Use a production WSGI server instead.\u001b[0m\n",
      " * Running on http://127.0.0.1:8000\n",
      "\u001b[33mPress CTRL+C to quit\u001b[0m\n",
      "127.0.0.1 - - [17/Sep/2024 08:37:18] \"POST /predict HTTP/1.1\" 200 -\n"
     ]
    }
   ],
   "source": [
    "if __name__ == '__main__':\n",
    "    # Ejecutar la aplicación Flask\n",
    "    app.run(port=8000)"
   ]
  }
 ],
 "metadata": {
  "kernelspec": {
   "display_name": "ml_python",
   "language": "python",
   "name": "python3"
  },
  "language_info": {
   "codemirror_mode": {
    "name": "ipython",
    "version": 3
   },
   "file_extension": ".py",
   "mimetype": "text/x-python",
   "name": "python",
   "nbconvert_exporter": "python",
   "pygments_lexer": "ipython3",
   "version": "3.10.13"
  }
 },
 "nbformat": 4,
 "nbformat_minor": 2
}
